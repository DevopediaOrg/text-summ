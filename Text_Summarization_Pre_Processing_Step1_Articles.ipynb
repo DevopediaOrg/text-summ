{
 "cells": [
  {
   "cell_type": "code",
   "execution_count": 1,
   "metadata": {},
   "outputs": [],
   "source": [
    "# Importing Basic Python Libraries\n",
    "import numpy as np\n",
    "import pandas as pd\n",
    "import matplotlib.pyplot as plt\n",
    "import seaborn as sns\n",
    "%matplotlib inline\n",
    "\n",
    "import math # Importing math\n",
    "\n",
    "# Abstract Syntax Trees\n",
    "import ast"
   ]
  },
  {
   "cell_type": "code",
   "execution_count": 2,
   "metadata": {},
   "outputs": [],
   "source": [
    "df=pd.read_csv('devopedia/devopedia/spiders/articles.csv')"
   ]
  },
  {
   "cell_type": "code",
   "execution_count": 3,
   "metadata": {},
   "outputs": [
    {
     "name": "stdout",
     "output_type": "stream",
     "text": [
      "<class 'pandas.core.frame.DataFrame'>\n",
      "RangeIndex: 226 entries, 0 to 225\n",
      "Data columns (total 5 columns):\n",
      " #   Column      Non-Null Count  Dtype \n",
      "---  ------      --------------  ----- \n",
      " 0   title       226 non-null    object\n",
      " 1   summary     226 non-null    object\n",
      " 2   QA          225 non-null    object\n",
      " 3   references  225 non-null    object\n",
      " 4   file_name   224 non-null    object\n",
      "dtypes: object(5)\n",
      "memory usage: 9.0+ KB\n"
     ]
    }
   ],
   "source": [
    "df.info()"
   ]
  },
  {
   "cell_type": "code",
   "execution_count": 4,
   "metadata": {},
   "outputs": [
    {
     "data": {
      "text/html": [
       "<div>\n",
       "<style scoped>\n",
       "    .dataframe tbody tr th:only-of-type {\n",
       "        vertical-align: middle;\n",
       "    }\n",
       "\n",
       "    .dataframe tbody tr th {\n",
       "        vertical-align: top;\n",
       "    }\n",
       "\n",
       "    .dataframe thead th {\n",
       "        text-align: right;\n",
       "    }\n",
       "</style>\n",
       "<table border=\"1\" class=\"dataframe\">\n",
       "  <thead>\n",
       "    <tr style=\"text-align: right;\">\n",
       "      <th></th>\n",
       "      <th>title</th>\n",
       "      <th>summary</th>\n",
       "      <th>QA</th>\n",
       "      <th>references</th>\n",
       "      <th>file_name</th>\n",
       "    </tr>\n",
       "  </thead>\n",
       "  <tbody>\n",
       "    <tr>\n",
       "      <th>0</th>\n",
       "      <td>MQTT</td>\n",
       "      <td>MQTT is a  messaging transport protocol. It ha...</td>\n",
       "      <td>[{'question': \"What's the expansion for MQTT?\"...</td>\n",
       "      <td>['http://docs.oasis-open.org/mqtt/mqtt/v3.1.1/...</td>\n",
       "      <td>MQTT_ref.csv</td>\n",
       "    </tr>\n",
       "    <tr>\n",
       "      <th>1</th>\n",
       "      <td>Race Condition (Software)</td>\n",
       "      <td>Race condition in software is an undesirable e...</td>\n",
       "      <td>[{'question': 'Can you give one example of rac...</td>\n",
       "      <td>['https://clang.llvm.org/docs/ThreadSafetyAnal...</td>\n",
       "      <td>Race Condition (Software)_ref.csv</td>\n",
       "    </tr>\n",
       "    <tr>\n",
       "      <th>2</th>\n",
       "      <td>HTTP/2</td>\n",
       "      <td>HTTP/2 is an alternative to HTTP/1.x that has ...</td>\n",
       "      <td>[{'question': 'Are there any published results...</td>\n",
       "      <td>['http://httpd.apache.org/docs/2.4/mod/mod_htt...</td>\n",
       "      <td>HTTP-2_ref.csv</td>\n",
       "    </tr>\n",
       "    <tr>\n",
       "      <th>3</th>\n",
       "      <td>Li-Fi</td>\n",
       "      <td>Li-Fi, or Light Fidelity, uses light as a medi...</td>\n",
       "      <td>[{'question': 'Why do we need Li-Fi when plent...</td>\n",
       "      <td>['http://www.eenewseurope.com/news/li-fi-achie...</td>\n",
       "      <td>Li-Fi_ref.csv</td>\n",
       "    </tr>\n",
       "    <tr>\n",
       "      <th>4</th>\n",
       "      <td>Web Annotation</td>\n",
       "      <td>In traditional print media, it's common practi...</td>\n",
       "      <td>[{'question': 'Without Web Annotation, how do ...</td>\n",
       "      <td>['https://web.hypothes.is/blog/3-million-annot...</td>\n",
       "      <td>Web Annotation_ref.csv</td>\n",
       "    </tr>\n",
       "  </tbody>\n",
       "</table>\n",
       "</div>"
      ],
      "text/plain": [
       "                       title  \\\n",
       "0                       MQTT   \n",
       "1  Race Condition (Software)   \n",
       "2                     HTTP/2   \n",
       "3                      Li-Fi   \n",
       "4             Web Annotation   \n",
       "\n",
       "                                             summary  \\\n",
       "0  MQTT is a  messaging transport protocol. It ha...   \n",
       "1  Race condition in software is an undesirable e...   \n",
       "2  HTTP/2 is an alternative to HTTP/1.x that has ...   \n",
       "3  Li-Fi, or Light Fidelity, uses light as a medi...   \n",
       "4  In traditional print media, it's common practi...   \n",
       "\n",
       "                                                  QA  \\\n",
       "0  [{'question': \"What's the expansion for MQTT?\"...   \n",
       "1  [{'question': 'Can you give one example of rac...   \n",
       "2  [{'question': 'Are there any published results...   \n",
       "3  [{'question': 'Why do we need Li-Fi when plent...   \n",
       "4  [{'question': 'Without Web Annotation, how do ...   \n",
       "\n",
       "                                          references  \\\n",
       "0  ['http://docs.oasis-open.org/mqtt/mqtt/v3.1.1/...   \n",
       "1  ['https://clang.llvm.org/docs/ThreadSafetyAnal...   \n",
       "2  ['http://httpd.apache.org/docs/2.4/mod/mod_htt...   \n",
       "3  ['http://www.eenewseurope.com/news/li-fi-achie...   \n",
       "4  ['https://web.hypothes.is/blog/3-million-annot...   \n",
       "\n",
       "                           file_name  \n",
       "0                       MQTT_ref.csv  \n",
       "1  Race Condition (Software)_ref.csv  \n",
       "2                     HTTP-2_ref.csv  \n",
       "3                      Li-Fi_ref.csv  \n",
       "4             Web Annotation_ref.csv  "
      ]
     },
     "execution_count": 4,
     "metadata": {},
     "output_type": "execute_result"
    }
   ],
   "source": [
    "df.head()"
   ]
  },
  {
   "cell_type": "code",
   "execution_count": 5,
   "metadata": {},
   "outputs": [
    {
     "data": {
      "text/html": [
       "<div>\n",
       "<style scoped>\n",
       "    .dataframe tbody tr th:only-of-type {\n",
       "        vertical-align: middle;\n",
       "    }\n",
       "\n",
       "    .dataframe tbody tr th {\n",
       "        vertical-align: top;\n",
       "    }\n",
       "\n",
       "    .dataframe thead th {\n",
       "        text-align: right;\n",
       "    }\n",
       "</style>\n",
       "<table border=\"1\" class=\"dataframe\">\n",
       "  <thead>\n",
       "    <tr style=\"text-align: right;\">\n",
       "      <th></th>\n",
       "      <th>title</th>\n",
       "      <th>summary</th>\n",
       "      <th>QA</th>\n",
       "      <th>references</th>\n",
       "      <th>file_name</th>\n",
       "    </tr>\n",
       "  </thead>\n",
       "  <tbody>\n",
       "    <tr>\n",
       "      <th>152</th>\n",
       "      <td>Design Thinking</td>\n",
       "      <td>Design thinking is a problem-solving method us...</td>\n",
       "      <td>NaN</td>\n",
       "      <td>NaN</td>\n",
       "      <td>NaN</td>\n",
       "    </tr>\n",
       "    <tr>\n",
       "      <th>153</th>\n",
       "      <td>It's an iterative process that favours ongoing...</td>\n",
       "      <td>[{'question': 'Why is the design thinking proc...</td>\n",
       "      <td>['https://www.aim.com.au/blog/getting-to-grips...</td>\n",
       "      <td>Design Thinking_ref.csv</td>\n",
       "      <td>NaN</td>\n",
       "    </tr>\n",
       "  </tbody>\n",
       "</table>\n",
       "</div>"
      ],
      "text/plain": [
       "                                                 title  \\\n",
       "152                                    Design Thinking   \n",
       "153  It's an iterative process that favours ongoing...   \n",
       "\n",
       "                                               summary  \\\n",
       "152  Design thinking is a problem-solving method us...   \n",
       "153  [{'question': 'Why is the design thinking proc...   \n",
       "\n",
       "                                                    QA  \\\n",
       "152                                                NaN   \n",
       "153  ['https://www.aim.com.au/blog/getting-to-grips...   \n",
       "\n",
       "                  references file_name  \n",
       "152                      NaN       NaN  \n",
       "153  Design Thinking_ref.csv       NaN  "
      ]
     },
     "execution_count": 5,
     "metadata": {},
     "output_type": "execute_result"
    }
   ],
   "source": [
    "df[(df['QA'].isnull()) | (df['references'].isnull()) | (df['file_name'].isnull())]"
   ]
  },
  {
   "cell_type": "markdown",
   "metadata": {},
   "source": [
    "https://devopedia.org/design-thinking"
   ]
  },
  {
   "cell_type": "code",
   "execution_count": 6,
   "metadata": {},
   "outputs": [],
   "source": [
    "df.iloc[152,1]=\"Design thinking is a problem-solving method used to create practical and creative solutions while addressing the needs of users. The process is extremely user centric as it focuses on understanding the needs of users and ensuring that the solutions created solve users' needs.\\\n",
    "It's an iterative process that favours ongoing experimentation until the right solution is found.\""
   ]
  },
  {
   "cell_type": "code",
   "execution_count": 7,
   "metadata": {},
   "outputs": [
    {
     "data": {
      "text/plain": [
       "\"Design thinking is a problem-solving method used to create practical and creative solutions while addressing the needs of users. The process is extremely user centric as it focuses on understanding the needs of users and ensuring that the solutions created solve users' needs.It's an iterative process that favours ongoing experimentation until the right solution is found.\""
      ]
     },
     "execution_count": 7,
     "metadata": {},
     "output_type": "execute_result"
    }
   ],
   "source": [
    "df.iloc[152,1]"
   ]
  },
  {
   "cell_type": "code",
   "execution_count": 8,
   "metadata": {},
   "outputs": [],
   "source": [
    "# Assigning Missing Columns in 152 index the values from 153 index previous col\n",
    "\n",
    "df.iloc[152,2]=df.iloc[153,1]\n",
    "df.iloc[152,3]=df.iloc[153,2]\n",
    "df.iloc[152,4]=df.iloc[153,3]"
   ]
  },
  {
   "cell_type": "code",
   "execution_count": 9,
   "metadata": {},
   "outputs": [
    {
     "data": {
      "text/html": [
       "<div>\n",
       "<style scoped>\n",
       "    .dataframe tbody tr th:only-of-type {\n",
       "        vertical-align: middle;\n",
       "    }\n",
       "\n",
       "    .dataframe tbody tr th {\n",
       "        vertical-align: top;\n",
       "    }\n",
       "\n",
       "    .dataframe thead th {\n",
       "        text-align: right;\n",
       "    }\n",
       "</style>\n",
       "<table border=\"1\" class=\"dataframe\">\n",
       "  <thead>\n",
       "    <tr style=\"text-align: right;\">\n",
       "      <th></th>\n",
       "      <th>title</th>\n",
       "      <th>summary</th>\n",
       "      <th>QA</th>\n",
       "      <th>references</th>\n",
       "      <th>file_name</th>\n",
       "    </tr>\n",
       "  </thead>\n",
       "  <tbody>\n",
       "    <tr>\n",
       "      <th>152</th>\n",
       "      <td>Design Thinking</td>\n",
       "      <td>Design thinking is a problem-solving method us...</td>\n",
       "      <td>[{'question': 'Why is the design thinking proc...</td>\n",
       "      <td>['https://www.aim.com.au/blog/getting-to-grips...</td>\n",
       "      <td>Design Thinking_ref.csv</td>\n",
       "    </tr>\n",
       "    <tr>\n",
       "      <th>153</th>\n",
       "      <td>It's an iterative process that favours ongoing...</td>\n",
       "      <td>[{'question': 'Why is the design thinking proc...</td>\n",
       "      <td>['https://www.aim.com.au/blog/getting-to-grips...</td>\n",
       "      <td>Design Thinking_ref.csv</td>\n",
       "      <td>NaN</td>\n",
       "    </tr>\n",
       "  </tbody>\n",
       "</table>\n",
       "</div>"
      ],
      "text/plain": [
       "                                                 title  \\\n",
       "152                                    Design Thinking   \n",
       "153  It's an iterative process that favours ongoing...   \n",
       "\n",
       "                                               summary  \\\n",
       "152  Design thinking is a problem-solving method us...   \n",
       "153  [{'question': 'Why is the design thinking proc...   \n",
       "\n",
       "                                                    QA  \\\n",
       "152  [{'question': 'Why is the design thinking proc...   \n",
       "153  ['https://www.aim.com.au/blog/getting-to-grips...   \n",
       "\n",
       "                                            references  \\\n",
       "152  ['https://www.aim.com.au/blog/getting-to-grips...   \n",
       "153                            Design Thinking_ref.csv   \n",
       "\n",
       "                   file_name  \n",
       "152  Design Thinking_ref.csv  \n",
       "153                      NaN  "
      ]
     },
     "execution_count": 9,
     "metadata": {},
     "output_type": "execute_result"
    }
   ],
   "source": [
    "df.iloc[152:154,:]"
   ]
  },
  {
   "cell_type": "code",
   "execution_count": 10,
   "metadata": {},
   "outputs": [
    {
     "data": {
      "text/html": [
       "<div>\n",
       "<style scoped>\n",
       "    .dataframe tbody tr th:only-of-type {\n",
       "        vertical-align: middle;\n",
       "    }\n",
       "\n",
       "    .dataframe tbody tr th {\n",
       "        vertical-align: top;\n",
       "    }\n",
       "\n",
       "    .dataframe thead th {\n",
       "        text-align: right;\n",
       "    }\n",
       "</style>\n",
       "<table border=\"1\" class=\"dataframe\">\n",
       "  <thead>\n",
       "    <tr style=\"text-align: right;\">\n",
       "      <th></th>\n",
       "      <th>title</th>\n",
       "      <th>summary</th>\n",
       "      <th>QA</th>\n",
       "      <th>references</th>\n",
       "      <th>file_name</th>\n",
       "    </tr>\n",
       "  </thead>\n",
       "  <tbody>\n",
       "    <tr>\n",
       "      <th>152</th>\n",
       "      <td>Design Thinking</td>\n",
       "      <td>Design thinking is a problem-solving method us...</td>\n",
       "      <td>[{'question': 'Why is the design thinking proc...</td>\n",
       "      <td>['https://www.aim.com.au/blog/getting-to-grips...</td>\n",
       "      <td>Design Thinking_ref.csv</td>\n",
       "    </tr>\n",
       "    <tr>\n",
       "      <th>154</th>\n",
       "      <td>Yeoman</td>\n",
       "      <td>Starting a new web app project often involves ...</td>\n",
       "      <td>[{'question': \"Could you outline Yeoman's typi...</td>\n",
       "      <td>['http://blog.assad.fr/2016/04/yeoman-passing-...</td>\n",
       "      <td>Yeoman_ref.csv</td>\n",
       "    </tr>\n",
       "  </tbody>\n",
       "</table>\n",
       "</div>"
      ],
      "text/plain": [
       "               title                                            summary  \\\n",
       "152  Design Thinking  Design thinking is a problem-solving method us...   \n",
       "154           Yeoman  Starting a new web app project often involves ...   \n",
       "\n",
       "                                                    QA  \\\n",
       "152  [{'question': 'Why is the design thinking proc...   \n",
       "154  [{'question': \"Could you outline Yeoman's typi...   \n",
       "\n",
       "                                            references  \\\n",
       "152  ['https://www.aim.com.au/blog/getting-to-grips...   \n",
       "154  ['http://blog.assad.fr/2016/04/yeoman-passing-...   \n",
       "\n",
       "                   file_name  \n",
       "152  Design Thinking_ref.csv  \n",
       "154           Yeoman_ref.csv  "
      ]
     },
     "execution_count": 10,
     "metadata": {},
     "output_type": "execute_result"
    }
   ],
   "source": [
    "#dropping index 153\n",
    "\n",
    "df.drop([df.index[153]],inplace=True)\n",
    "\n",
    "# Checking\n",
    "df.iloc[152:154]"
   ]
  },
  {
   "cell_type": "code",
   "execution_count": 11,
   "metadata": {},
   "outputs": [],
   "source": [
    "import os # for changing the wd\n",
    "os.chdir('C:\\\\Users\\\\Natarajan\\\\Downloads\\\\devopedia\\\\devopedia\\\\spiders')"
   ]
  },
  {
   "cell_type": "code",
   "execution_count": 29,
   "metadata": {},
   "outputs": [],
   "source": [
    "# Writing the corrected dataframe to csv\n",
    "# Here we will name it with the suffix 152 for easy recall later\n",
    "df.to_csv('articles_152.csv',index=False)"
   ]
  },
  {
   "cell_type": "code",
   "execution_count": 31,
   "metadata": {},
   "outputs": [],
   "source": [
    "# Writing an UDF to concatenate the Question and Answer value pairs\n",
    "def get_concat_qa(list_of_dict):\n",
    "    final_qa=\"\" # initializing Question Answer list\n",
    "    # Extracting Questions and Answers from the QA Dictionary Col\n",
    "    for dic in list_of_dict:\n",
    "        final_qa=final_qa+\" \"+dic['question']+\" \"+dic['answer']\n",
    "    return final_qa"
   ]
  },
  {
   "cell_type": "raw",
   "metadata": {},
   "source": [
    "Creating Overall Summary by combining Summary with the QA list which now\n",
    "contains the unwrapped information from the QA Dictionary"
   ]
  },
  {
   "cell_type": "code",
   "execution_count": 35,
   "metadata": {},
   "outputs": [],
   "source": [
    "df['overall_summary']=\\\n",
    "df['summary']+\\\n",
    "df['QA'].apply(lambda x : ast.literal_eval(x)).apply(lambda x: get_concat_qa(x))\n"
   ]
  },
  {
   "cell_type": "raw",
   "metadata": {},
   "source": [
    "Writing the updated df to csv - this is to ensure that from now on we will use the updated csv instead of running the above steps"
   ]
  },
  {
   "cell_type": "code",
   "execution_count": 36,
   "metadata": {},
   "outputs": [],
   "source": [
    "df.to_csv(\"overall_summary.csv\",index=False)"
   ]
  },
  {
   "cell_type": "raw",
   "metadata": {},
   "source": [
    "------------------------------------------------------------------------------"
   ]
  }
 ],
 "metadata": {
  "kernelspec": {
   "display_name": "Python 3",
   "language": "python",
   "name": "python3"
  },
  "language_info": {
   "codemirror_mode": {
    "name": "ipython",
    "version": 3
   },
   "file_extension": ".py",
   "mimetype": "text/x-python",
   "name": "python",
   "nbconvert_exporter": "python",
   "pygments_lexer": "ipython3",
   "version": "3.6.10"
  }
 },
 "nbformat": 4,
 "nbformat_minor": 2
}
