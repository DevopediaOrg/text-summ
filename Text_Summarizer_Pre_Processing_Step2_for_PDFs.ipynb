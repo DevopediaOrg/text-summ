{
 "cells": [
  {
   "cell_type": "code",
   "execution_count": 2,
   "metadata": {},
   "outputs": [],
   "source": [
    "# Importing Basic Python Libraries\n",
    "import numpy as np\n",
    "import pandas as pd\n",
    "import matplotlib.pyplot as plt\n",
    "import seaborn as sns\n",
    "%matplotlib inline\n",
    "\n",
    "import math # Importing math\n",
    "\n",
    "# Abstract Syntax Trees\n",
    "import ast"
   ]
  },
  {
   "cell_type": "code",
   "execution_count": 4,
   "metadata": {},
   "outputs": [],
   "source": [
    "# Importing articles.csv file which has profiling info of all articles\n",
    "articles=pd.read_csv('devopedia/devopedia/spiders/articles_152.csv')"
   ]
  },
  {
   "cell_type": "code",
   "execution_count": 5,
   "metadata": {},
   "outputs": [
    {
     "data": {
      "text/plain": [
       "title         0\n",
       "summary       0\n",
       "QA            0\n",
       "references    0\n",
       "file_name     0\n",
       "dtype: int64"
      ]
     },
     "execution_count": 5,
     "metadata": {},
     "output_type": "execute_result"
    }
   ],
   "source": [
    "articles.isnull().sum()"
   ]
  },
  {
   "cell_type": "code",
   "execution_count": 6,
   "metadata": {},
   "outputs": [
    {
     "data": {
      "text/html": [
       "<div>\n",
       "<style scoped>\n",
       "    .dataframe tbody tr th:only-of-type {\n",
       "        vertical-align: middle;\n",
       "    }\n",
       "\n",
       "    .dataframe tbody tr th {\n",
       "        vertical-align: top;\n",
       "    }\n",
       "\n",
       "    .dataframe thead th {\n",
       "        text-align: right;\n",
       "    }\n",
       "</style>\n",
       "<table border=\"1\" class=\"dataframe\">\n",
       "  <thead>\n",
       "    <tr style=\"text-align: right;\">\n",
       "      <th></th>\n",
       "      <th>title</th>\n",
       "      <th>summary</th>\n",
       "      <th>QA</th>\n",
       "      <th>references</th>\n",
       "      <th>file_name</th>\n",
       "    </tr>\n",
       "  </thead>\n",
       "  <tbody>\n",
       "    <tr>\n",
       "      <th>0</th>\n",
       "      <td>MQTT</td>\n",
       "      <td>MQTT is a  messaging transport protocol. It ha...</td>\n",
       "      <td>[{'question': \"What's the expansion for MQTT?\"...</td>\n",
       "      <td>['http://docs.oasis-open.org/mqtt/mqtt/v3.1.1/...</td>\n",
       "      <td>MQTT_ref.csv</td>\n",
       "    </tr>\n",
       "    <tr>\n",
       "      <th>1</th>\n",
       "      <td>Race Condition (Software)</td>\n",
       "      <td>Race condition in software is an undesirable e...</td>\n",
       "      <td>[{'question': 'Can you give one example of rac...</td>\n",
       "      <td>['https://clang.llvm.org/docs/ThreadSafetyAnal...</td>\n",
       "      <td>Race Condition (Software)_ref.csv</td>\n",
       "    </tr>\n",
       "    <tr>\n",
       "      <th>2</th>\n",
       "      <td>HTTP/2</td>\n",
       "      <td>HTTP/2 is an alternative to HTTP/1.x that has ...</td>\n",
       "      <td>[{'question': 'Are there any published results...</td>\n",
       "      <td>['http://httpd.apache.org/docs/2.4/mod/mod_htt...</td>\n",
       "      <td>HTTP-2_ref.csv</td>\n",
       "    </tr>\n",
       "    <tr>\n",
       "      <th>3</th>\n",
       "      <td>Li-Fi</td>\n",
       "      <td>Li-Fi, or Light Fidelity, uses light as a medi...</td>\n",
       "      <td>[{'question': 'Why do we need Li-Fi when plent...</td>\n",
       "      <td>['http://www.eenewseurope.com/news/li-fi-achie...</td>\n",
       "      <td>Li-Fi_ref.csv</td>\n",
       "    </tr>\n",
       "    <tr>\n",
       "      <th>4</th>\n",
       "      <td>Web Annotation</td>\n",
       "      <td>In traditional print media, it's common practi...</td>\n",
       "      <td>[{'question': 'Without Web Annotation, how do ...</td>\n",
       "      <td>['https://web.hypothes.is/blog/3-million-annot...</td>\n",
       "      <td>Web Annotation_ref.csv</td>\n",
       "    </tr>\n",
       "  </tbody>\n",
       "</table>\n",
       "</div>"
      ],
      "text/plain": [
       "                       title  \\\n",
       "0                       MQTT   \n",
       "1  Race Condition (Software)   \n",
       "2                     HTTP/2   \n",
       "3                      Li-Fi   \n",
       "4             Web Annotation   \n",
       "\n",
       "                                             summary  \\\n",
       "0  MQTT is a  messaging transport protocol. It ha...   \n",
       "1  Race condition in software is an undesirable e...   \n",
       "2  HTTP/2 is an alternative to HTTP/1.x that has ...   \n",
       "3  Li-Fi, or Light Fidelity, uses light as a medi...   \n",
       "4  In traditional print media, it's common practi...   \n",
       "\n",
       "                                                  QA  \\\n",
       "0  [{'question': \"What's the expansion for MQTT?\"...   \n",
       "1  [{'question': 'Can you give one example of rac...   \n",
       "2  [{'question': 'Are there any published results...   \n",
       "3  [{'question': 'Why do we need Li-Fi when plent...   \n",
       "4  [{'question': 'Without Web Annotation, how do ...   \n",
       "\n",
       "                                          references  \\\n",
       "0  ['http://docs.oasis-open.org/mqtt/mqtt/v3.1.1/...   \n",
       "1  ['https://clang.llvm.org/docs/ThreadSafetyAnal...   \n",
       "2  ['http://httpd.apache.org/docs/2.4/mod/mod_htt...   \n",
       "3  ['http://www.eenewseurope.com/news/li-fi-achie...   \n",
       "4  ['https://web.hypothes.is/blog/3-million-annot...   \n",
       "\n",
       "                           file_name  \n",
       "0                       MQTT_ref.csv  \n",
       "1  Race Condition (Software)_ref.csv  \n",
       "2                     HTTP-2_ref.csv  \n",
       "3                      Li-Fi_ref.csv  \n",
       "4             Web Annotation_ref.csv  "
      ]
     },
     "execution_count": 6,
     "metadata": {},
     "output_type": "execute_result"
    }
   ],
   "source": [
    "articles.head()"
   ]
  },
  {
   "cell_type": "markdown",
   "metadata": {},
   "source": [
    "There is an article on \"Dotdot\" which actually has No Reference links. So the filename column there is actually labelled as \"No References\". \n",
    "https://devopedia.org/dotdot"
   ]
  },
  {
   "cell_type": "code",
   "execution_count": 7,
   "metadata": {},
   "outputs": [
    {
     "data": {
      "text/html": [
       "<div>\n",
       "<style scoped>\n",
       "    .dataframe tbody tr th:only-of-type {\n",
       "        vertical-align: middle;\n",
       "    }\n",
       "\n",
       "    .dataframe tbody tr th {\n",
       "        vertical-align: top;\n",
       "    }\n",
       "\n",
       "    .dataframe thead th {\n",
       "        text-align: right;\n",
       "    }\n",
       "</style>\n",
       "<table border=\"1\" class=\"dataframe\">\n",
       "  <thead>\n",
       "    <tr style=\"text-align: right;\">\n",
       "      <th></th>\n",
       "      <th>title</th>\n",
       "      <th>summary</th>\n",
       "      <th>QA</th>\n",
       "      <th>references</th>\n",
       "      <th>file_name</th>\n",
       "    </tr>\n",
       "  </thead>\n",
       "  <tbody>\n",
       "    <tr>\n",
       "      <th>75</th>\n",
       "      <td>Dotdot</td>\n",
       "      <td>is the universal language of the Internet of ...</td>\n",
       "      <td>[{'question': \"What's the need to have Dotdot?...</td>\n",
       "      <td>[]</td>\n",
       "      <td>No References</td>\n",
       "    </tr>\n",
       "  </tbody>\n",
       "</table>\n",
       "</div>"
      ],
      "text/plain": [
       "     title                                            summary  \\\n",
       "75  Dotdot   is the universal language of the Internet of ...   \n",
       "\n",
       "                                                   QA references  \\\n",
       "75  [{'question': \"What's the need to have Dotdot?...         []   \n",
       "\n",
       "        file_name  \n",
       "75  No References  "
      ]
     },
     "execution_count": 7,
     "metadata": {},
     "output_type": "execute_result"
    }
   ],
   "source": [
    "articles[articles.file_name==\"No References\"]"
   ]
  },
  {
   "cell_type": "raw",
   "metadata": {},
   "source": [
    "1. Dropping Rows which have \"No References\" under 'file_name' column\n",
    "\n",
    "2. 'text' column has 403 Forbidden values - which are peculiar to reference links from Machine Learning Mastery website which doesn't allow external scraping\n",
    "(Code Snip: row['text']==\"403 Forbidden\\n403 Forbidden\\nnginx\")"
   ]
  },
  {
   "cell_type": "code",
   "execution_count": 8,
   "metadata": {
    "scrolled": true
   },
   "outputs": [],
   "source": [
    "for index,row in articles.iterrows():\n",
    "    if str(row['file_name'])==\"No References\":\n",
    "        continue\n",
    "    # text='devopedia/devopedia/spiders/'+row['file_name'] for reading file\n",
    "    text=pd.read_csv('devopedia/devopedia/spiders/'+row['file_name'])\n",
    "    \n",
    "    text=text.replace(np.nan,\"\",regex=True) # replacing 'nan' with blanks\n",
    "    \n",
    "    # Preparing Dictionary of Columns for our Clean Data Frames for each article\n",
    "    cleaned_df_columns={'title', 'reference_link', 'type', 'text'}\n",
    "    \n",
    "    # Assigning the columns to the cleaned_df DataFrame\n",
    "    cleaned_df=pd.DataFrame(columns=cleaned_df_columns)\n",
    "    \n",
    "    # Iterating over each reference link using iterrows again\n",
    "    # Here will use counters named i,r instead of index,rows\n",
    "    # Extracting the text in between 'Abstract' and 'References' inside pdf\n",
    "    \n",
    "    for i,r in text.iterrows():\n",
    "        cleaned_text=r['text']\n",
    "        if  cleaned_text==\"403 Forbidden\\n403 Forbidden\\nnginx\":\n",
    "            cleaned_text=\"\"\n",
    "        if(r['type'].find(\"pdf\")!=-1):\n",
    "            abstract_index=r['text'].find(\"Abstract\")\n",
    "            if  abstract_index==-1:\n",
    "                abstract_index=0\n",
    "            refer_index=r['text'].rfind(\"References\")\n",
    "            cleaned_text=r['text'][abstract_index:refer_index]\n",
    "        \n",
    "        # Initializing dict to contain cleaned_df cols as the keys\n",
    "        row_dict={}\n",
    "        \n",
    "        # Assigning values from row to the cleaned_df columns\n",
    "        row_dict['title']=r['title']\n",
    "        row_dict['reference_link']=r['reference_link']\n",
    "        row_dict['type']=r['type']\n",
    "        row_dict['text']=cleaned_text\n",
    "        \n",
    "        # Appending row_dict to cleaned_df\n",
    "        cleaned_df=cleaned_df.append(row_dict,ignore_index=True)\n",
    "    \n",
    "    # Writing cleaned_df for each article to_csv \n",
    "    # in the'devopedia/devopedia/spiders/' path\n",
    "    cleaned_df.to_csv('devopedia/devopedia/spiders/'+row['file_name'][:-4]+\"_cleaned.csv\")"
   ]
  },
  {
   "cell_type": "raw",
   "metadata": {},
   "source": [
    "-------------------------------------------------------------------------------"
   ]
  }
 ],
 "metadata": {
  "kernelspec": {
   "display_name": "Python 3",
   "language": "python",
   "name": "python3"
  },
  "language_info": {
   "codemirror_mode": {
    "name": "ipython",
    "version": 3
   },
   "file_extension": ".py",
   "mimetype": "text/x-python",
   "name": "python",
   "nbconvert_exporter": "python",
   "pygments_lexer": "ipython3",
   "version": "3.6.10"
  }
 },
 "nbformat": 4,
 "nbformat_minor": 2
}
